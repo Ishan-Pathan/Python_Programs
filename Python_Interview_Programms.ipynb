{
 "cells": [
  {
   "cell_type": "code",
   "execution_count": 1,
   "id": "fea43c9c",
   "metadata": {},
   "outputs": [
    {
     "name": "stdout",
     "output_type": "stream",
     "text": [
      "Enter the name: Abhishek\n",
      "The length of that given name is: 8\n"
     ]
    }
   ],
   "source": [
    "#Write a program to find the length of the string without using inbuilt function (len)\n",
    "\n",
    "name=input(\"Enter the name: \")\n",
    "length=0\n",
    "str1=\"\"\n",
    "for i in name:\n",
    "    str1=i+str1\n",
    "    length=length+1\n",
    "print(\"The length of that given name is:\",length)"
   ]
  },
  {
   "cell_type": "code",
   "execution_count": 5,
   "id": "daa7ec83",
   "metadata": {},
   "outputs": [
    {
     "name": "stdout",
     "output_type": "stream",
     "text": [
      "Enter the string name: awesome\n",
      "Reverse of awesome string is emosewa\n"
     ]
    }
   ],
   "source": [
    "#Write a program to reverse a string without using any inbuilt functions.\n",
    "\n",
    "str2=input(\"Enter the string name: \")\n",
    "str3=\"\"\n",
    "for i in str2:\n",
    "    str3=i+str3\n",
    "print(f\"Reverse of {str2} string is {str3}\")"
   ]
  },
  {
   "cell_type": "code",
   "execution_count": 6,
   "id": "bb02c398",
   "metadata": {},
   "outputs": [
    {
     "data": {
      "text/plain": [
       "'Hello Universe'"
      ]
     },
     "execution_count": 6,
     "metadata": {},
     "output_type": "execute_result"
    }
   ],
   "source": [
    "#Write a program to replace one string with another. e.g. \"Hello World\" replaces \"World\" with \"Universe\".\n",
    "\n",
    "name1=\"Hello World\"\n",
    "name1.replace(\"World\",\"Universe\")\n"
   ]
  },
  {
   "cell_type": "code",
   "execution_count": 10,
   "id": "6ab89456",
   "metadata": {},
   "outputs": [
    {
     "data": {
      "text/plain": [
       "['Python', 'is', 'awesome']"
      ]
     },
     "execution_count": 10,
     "metadata": {},
     "output_type": "execute_result"
    }
   ],
   "source": [
    "#How to convert a string to a list and vice-versa.\n",
    "\n",
    "a=\"Python is awesome\"\n",
    "b=list(a.split())\n",
    "b"
   ]
  },
  {
   "cell_type": "code",
   "execution_count": 13,
   "id": "647e3762",
   "metadata": {},
   "outputs": [
    {
     "data": {
      "text/plain": [
       "'Python is awesome'"
      ]
     },
     "execution_count": 13,
     "metadata": {},
     "output_type": "execute_result"
    }
   ],
   "source": [
    "#How to convert a list to a string\n",
    "b=['Python', 'is', 'awesome']\n",
    "a=\" \".join(b)      \n",
    "a"
   ]
  },
  {
   "cell_type": "code",
   "execution_count": 18,
   "id": "721f01dc",
   "metadata": {},
   "outputs": [
    {
     "name": "stdout",
     "output_type": "stream",
     "text": [
      "Hello,welcome,to,Python\n"
     ]
    }
   ],
   "source": [
    "#Convert the string \"Hello welcome to Python\" to a comma separated string.\n",
    "\n",
    "c=\"Hello welcome to Python\"\n",
    "d=c.split()\n",
    "e=\",\".join(d)\n",
    "print(e)\n"
   ]
  },
  {
   "cell_type": "code",
   "execution_count": 2,
   "id": "8cedb729",
   "metadata": {},
   "outputs": [
    {
     "name": "stdout",
     "output_type": "stream",
     "text": [
      "Enter the string: Jonny\n",
      "Jny\n"
     ]
    }
   ],
   "source": [
    "#Write a program to print alternate characters in a string.\n",
    "\n",
    "name3=input(\"Enter the string: \")\n",
    "print(name3[::2])"
   ]
  },
  {
   "cell_type": "code",
   "execution_count": 45,
   "id": "e4d859e7",
   "metadata": {},
   "outputs": [
    {
     "name": "stdout",
     "output_type": "stream",
     "text": [
      "iH woH era uoy\n"
     ]
    }
   ],
   "source": [
    "#Write a python program to get the below output sentence = \"Hi How are you\" o/p should be \"iH woH era uoy\"\n",
    "\n",
    "bf=\"Hi How are you\"\n",
    "f=bf.split()\n",
    "gf=\" \".join(words[::-1] for words in f)\n",
    "print(gf)"
   ]
  },
  {
   "cell_type": "code",
   "execution_count": 60,
   "id": "82ce7187",
   "metadata": {},
   "outputs": [
    {
     "name": "stdout",
     "output_type": "stream",
     "text": [
      "uoy era woH iH\n"
     ]
    }
   ],
   "source": [
    "#Write a python program to get the below output sentence = \"Hi How are you\" o/p should be \"uoy era woH iH\"\n",
    "\n",
    "sentence=\"Hi How are you\"\n",
    "word=sentence.split()[::-1]\n",
    "reversed_sentence=\" \".join(i[::-1] for i in word)\n",
    "print(reversed_sentence)"
   ]
  },
  {
   "cell_type": "code",
   "execution_count": 61,
   "id": "06e7601c",
   "metadata": {},
   "outputs": [
    {
     "name": "stdout",
     "output_type": "stream",
     "text": [
      "The unique items are:  [1, 2, 3, 4, 5]\n"
     ]
    }
   ],
   "source": [
    "# How to remove duplicates from the list without using inbuilt functions.\n",
    "items = [1, 2, 3, 4, 1, 2, 3, 4, 5]\n",
    "unique_items=[]\n",
    "for i in items:\n",
    "    if i not in unique_items:\n",
    "        unique_items.append(i)\n",
    "print(\"The unique items are: \",unique_items)\n",
    "\n",
    "\n"
   ]
  },
  {
   "cell_type": "code",
   "execution_count": 72,
   "id": "1eba8247",
   "metadata": {},
   "outputs": [
    {
     "name": "stdout",
     "output_type": "stream",
     "text": [
      "longest word in sentence is oppourtunity and lenght of that is 12\n"
     ]
    }
   ],
   "source": [
    "#Find the longest word in the sentence\n",
    "\n",
    "sentence=\"Thank you so much for giving me this oppourtunity\"\n",
    "sent=sentence.split()\n",
    "longest=\" \"\n",
    "max_len=0\n",
    "\n",
    "for i in sent:\n",
    "    if len(i)>max_len:\n",
    "        longest=i\n",
    "        max_len=len(i)\n",
    "print(f\"longest word in sentence is {longest} and lenght of that is {max_len}\")"
   ]
  },
  {
   "cell_type": "code",
   "execution_count": 78,
   "id": "c5bf80f6",
   "metadata": {},
   "outputs": [
    {
     "name": "stdout",
     "output_type": "stream",
     "text": [
      "Converted value is: 1234\n"
     ]
    }
   ],
   "source": [
    "# write a program to get 1234\n",
    "t = ('1', '2', '3', '4')\n",
    "u=\"\".join(t)\n",
    "print(\"Converted value is:\" ,int(u))"
   ]
  },
  {
   "cell_type": "code",
   "execution_count": 97,
   "id": "3b056338",
   "metadata": {},
   "outputs": [
    {
     "name": "stdout",
     "output_type": "stream",
     "text": [
      "[4] is not an common elements\n"
     ]
    }
   ],
   "source": [
    "# How to get the elements that are in list b but not in list a**\n",
    "a = [1, 2, 3]\n",
    "b = [1, 2, 3, 4]\n",
    "\n",
    "different_elem=[i for i in b if i not in a]\n",
    "print(f\"{different_elem} is not an common elements\" )"
   ]
  },
  {
   "cell_type": "code",
   "execution_count": 98,
   "id": "e5a592c7",
   "metadata": {},
   "outputs": [
    {
     "data": {
      "text/plain": [
       "[60, 70, 90, 80, 30, 40, 50, 10]"
      ]
     },
     "execution_count": 98,
     "metadata": {},
     "output_type": "execute_result"
    }
   ],
   "source": [
    "#Write a function to reverse any iterable without using reverse function.\n",
    "list1=[10,50,40,30,80,90,70,60]\n",
    "list2=[i for i in list1[::-1]]\n",
    "list2"
   ]
  },
  {
   "cell_type": "code",
   "execution_count": 6,
   "id": "abec75a5",
   "metadata": {},
   "outputs": [
    {
     "name": "stdout",
     "output_type": "stream",
     "text": [
      "sum of all digits present in above string is:  23\n"
     ]
    }
   ],
   "source": [
    "#Sum all the numbers in the below string.**\n",
    "s = \"Sony12India567Pvt2ltd\"\n",
    "sum1=0\n",
    "for i in s:\n",
    "    if i.isdigit():\n",
    "        sum1+=int(i)\n",
    "print(\"sum of all digits present in above string is: \",sum1)\n"
   ]
  },
  {
   "cell_type": "code",
   "execution_count": 13,
   "id": "541889e3",
   "metadata": {},
   "outputs": [
    {
     "data": {
      "text/plain": [
       "['google', 'flipkart', 'facebook', 'amazon']"
      ]
     },
     "execution_count": 13,
     "metadata": {},
     "output_type": "execute_result"
    }
   ],
   "source": [
    "# Write a program to iterate through list and build a new list, only if the items of the list has even number of characters.**\n",
    "names = ['apple', 'yahoo', 'google', 'gmail', 'walmart', 'flipkart', 'facebook', 'amazon']\n",
    "even_names=[i for i in (names) if len(i)%2==0]\n",
    "even_names"
   ]
  },
  {
   "cell_type": "code",
   "execution_count": 16,
   "id": "e2d8a97e",
   "metadata": {},
   "outputs": [
    {
     "data": {
      "text/plain": [
       "['apple', 'yahoo', 'gmail', 'walmart']"
      ]
     },
     "execution_count": 16,
     "metadata": {},
     "output_type": "execute_result"
    }
   ],
   "source": [
    "#Write a program to iterate through list and build a new list, only if the items of the list has odd number of characters.**\n",
    "names = ['apple', 'yahoo', 'google', 'gmail', 'walmart', 'flipkart', 'facebook', 'amazon']\n",
    "odd_names = [name for name in names if len(name) % 2 != 0]\n",
    "odd_names"
   ]
  },
  {
   "cell_type": "code",
   "execution_count": 28,
   "id": "ed9171f2",
   "metadata": {},
   "outputs": [
    {
     "data": {
      "text/plain": [
       "Counter({'look': 4,\n",
       "         'into': 3,\n",
       "         'my': 3,\n",
       "         'eyes': 8,\n",
       "         'the': 5,\n",
       "         'not': 1,\n",
       "         'around': 2,\n",
       "         \"don't\": 1,\n",
       "         \"you're\": 1,\n",
       "         'under': 1})"
      ]
     },
     "execution_count": 28,
     "metadata": {},
     "output_type": "execute_result"
    }
   ],
   "source": [
    "#Write a program to find most common words in a given list.\n",
    "words = ['look', 'into', 'my', 'eyes', 'look', 'into', 'my', 'eyes', 'the', 'eyes', 'the', 'eyes', 'the',\n",
    "'eyes', 'not', 'around', 'the', 'eyes', \"don't\", 'look', 'around', 'the', 'eyes', 'look', 'into', 'my',\n",
    "'eyes', \"you're\", 'under']\n",
    "\n",
    "from collections import Counter\n",
    "word=Counter(words)\n",
    "word"
   ]
  },
  {
   "cell_type": "code",
   "execution_count": 34,
   "id": "b47e396f",
   "metadata": {},
   "outputs": [
    {
     "data": {
      "text/plain": [
       "{'apple': 3, 'yahoo': 2, 'gmail': 4}"
      ]
     },
     "execution_count": 34,
     "metadata": {},
     "output_type": "execute_result"
    }
   ],
   "source": [
    "# Write a program to get all the duplicate items and the number of times the item is repeated in the list\n",
    "names = ['apple', 'google', 'apple', 'yahoo', 'yahoo', 'facebook', 'apple', 'gmail', 'gmail', 'gmail','gmail']\n",
    "words1=Counter(names)\n",
    "dict1={item:count for item,count in words1.items() if count>1}\n",
    "print(dict1)"
   ]
  },
  {
   "cell_type": "code",
   "execution_count": 37,
   "id": "e0767b85",
   "metadata": {},
   "outputs": [
    {
     "name": "stdout",
     "output_type": "stream",
     "text": [
      "Enter the name: NIT INSTITUTE\n",
      "Total count of vowvels in given string is:  5\n"
     ]
    }
   ],
   "source": [
    "#Write a program to count the number of occurrences of vowels in a file.\n",
    "str1=input(\"Enter the name: \").lower()\n",
    "vow_count=0\n",
    "for i in str1:\n",
    "    if i==\"a\" or i==\"e\" or i=='i' or i=='o' or i=='u':\n",
    "        vow_count+=1\n",
    "print(\"Total count of vowvels in given string is: \",vow_count)"
   ]
  },
  {
   "cell_type": "code",
   "execution_count": 41,
   "id": "5840c552",
   "metadata": {},
   "outputs": [
    {
     "name": "stdout",
     "output_type": "stream",
     "text": [
      "Enter the name: python is awesome \n",
      "3\n"
     ]
    }
   ],
   "source": [
    "#Write a program to count the number of white spaces in a given string.\n",
    "name2=input(\"Enter the name: \")\n",
    "white_space_count=0\n",
    "for i in name2:\n",
    "    if i.isspace():\n",
    "        white_space_count+=1\n",
    "print(white_space_count)\n",
    "        "
   ]
  },
  {
   "cell_type": "code",
   "execution_count": 63,
   "id": "ecbb721e",
   "metadata": {},
   "outputs": [
    {
     "name": "stdout",
     "output_type": "stream",
     "text": [
      "Enter the year2024\n",
      "2024 is a leap year\n"
     ]
    }
   ],
   "source": [
    "#Write a program to check if the year is leap year or not python\n",
    "year = int(input(\"Enter the year\"))\n",
    "if (year % 400 == 0) and (year % 100 == 0):\n",
    "    print(\"{0} is a leap year\".format(year))\n",
    "\n",
    "elif (year % 4 ==0) and (year % 100 != 0):\n",
    "    print(\"{0} is a leap year\".format(year))\n",
    "    \n",
    "else:\n",
    "    print(\"{0} is not a leap year\".format(year))"
   ]
  },
  {
   "cell_type": "code",
   "execution_count": 6,
   "id": "8fe70b60",
   "metadata": {},
   "outputs": [
    {
     "name": "stdout",
     "output_type": "stream",
     "text": [
      "Enter the number: 161\n",
      "The given number 161 is pallindrome\n"
     ]
    }
   ],
   "source": [
    "#Write a program wheather the give number is pallindrome or not\n",
    "number=int(input(\"Enter the number: \"))\n",
    "rev=0\n",
    "temp=number\n",
    "\n",
    "while number>0:\n",
    "    dig=number%10\n",
    "    rev=rev*10+dig\n",
    "    number=number//10\n",
    "if temp==rev:\n",
    "    print(f\"The given number {temp} is pallindrome\")\n",
    "else:\n",
    "    print(f\"The given number {temp} is not a pallindrome\")"
   ]
  },
  {
   "cell_type": "code",
   "execution_count": 13,
   "id": "5aeaf4e0",
   "metadata": {},
   "outputs": [
    {
     "name": "stdout",
     "output_type": "stream",
     "text": [
      "Enter the number: 2\n",
      "2 * 1 = 2\n",
      "2 * 2 = 4\n",
      "2 * 3 = 6\n",
      "2 * 4 = 8\n",
      "2 * 5 = 10\n",
      "2 * 6 = 12\n",
      "2 * 7 = 14\n",
      "2 * 8 = 16\n",
      "2 * 9 = 18\n",
      "2 * 10 = 20\n"
     ]
    }
   ],
   "source": [
    "#Write a program to write a table of user input number\n",
    "num=int(input(\"Enter the number: \"))\n",
    "for i in range(1,11):\n",
    "    print(num, '*', i ,'=', num*i)"
   ]
  },
  {
   "cell_type": "code",
   "execution_count": 18,
   "id": "a0730273",
   "metadata": {},
   "outputs": [
    {
     "name": "stdout",
     "output_type": "stream",
     "text": [
      "Enter the number: 4\n",
      "1 is divisor of 4\n",
      "2 is divisor of 4\n",
      "4 is divisor of 4\n"
     ]
    }
   ],
   "source": [
    "#write a program to find all divisor of that specific number\n",
    "number=int(input(\"Enter the number: \"))\n",
    "for i in range(1,number+1):\n",
    "    if number%i==0:\n",
    "        print(f\"{i} is divisor of {number}\")"
   ]
  },
  {
   "cell_type": "code",
   "execution_count": 28,
   "id": "6f0c0c05",
   "metadata": {},
   "outputs": [
    {
     "name": "stdout",
     "output_type": "stream",
     "text": [
      "Maximum value in that given [45, 87, 98, 23, 12, 56, 55, 20] is 98\n"
     ]
    }
   ],
   "source": [
    "#Write a program to find the maximum value in that given list without using inbuilt function.\n",
    "list1=[45,87,98,23,12,56,55,20]\n",
    "maximum=0\n",
    "for i in list1:\n",
    "    if i>maximum:\n",
    "        maximum=i\n",
    "print(f\"Maximum value in that given {list1} is {maximum}\")"
   ]
  },
  {
   "cell_type": "code",
   "execution_count": 29,
   "id": "242b3095",
   "metadata": {},
   "outputs": [
    {
     "name": "stdout",
     "output_type": "stream",
     "text": [
      "Minimum value in that given [45, 87, 98, 23, 12, 56, 55, 20] is 12\n"
     ]
    }
   ],
   "source": [
    "#Write a program to find the minimum value in that given list without using inbuilt function.\n",
    "list2=[45,87,98,23,12,56,55,20]\n",
    "minimum=list2[0]\n",
    "for i in list2:\n",
    "    if i<minimum:\n",
    "        minimum=i\n",
    "print(f\"Minimum value in that given {list1} is {minimum}\")"
   ]
  },
  {
   "cell_type": "code",
   "execution_count": 31,
   "id": "1df45d34",
   "metadata": {},
   "outputs": [
    {
     "name": "stdout",
     "output_type": "stream",
     "text": [
      "Enter the value of x: 45\n",
      "Enter the value of y: 55\n",
      "The value of x after swapping: 55\n",
      "The value of y after swapping: 45\n"
     ]
    }
   ],
   "source": [
    "#Write a Python Program to Swap Two Variables\n",
    "x = int(input(\"Enter the value of x: \"))\n",
    "y = int(input(\"Enter the value of y: \"))\n",
    "\n",
    "temp = x\n",
    "x = y\n",
    "y = temp\n",
    "\n",
    "print('The value of x after swapping: {}'.format(x))\n",
    "print('The value of y after swapping: {}'.format(y))"
   ]
  },
  {
   "cell_type": "code",
   "execution_count": 32,
   "id": "312dc2a1",
   "metadata": {},
   "outputs": [
    {
     "name": "stdout",
     "output_type": "stream",
     "text": [
      "set1 U set2 :  {2, 4, 5, 6, 7, 8}\n"
     ]
    }
   ],
   "source": [
    "#Write a Python Program to demonstrate union of two sets\n",
    "set1 = {2, 4, 5, 6}\n",
    "set2 = {4, 6, 7, 8}\n",
    "\n",
    "print(\"set1 U set2 : \", set1.union(set2))"
   ]
  },
  {
   "cell_type": "code",
   "execution_count": 33,
   "id": "9b769431",
   "metadata": {},
   "outputs": [
    {
     "name": "stdout",
     "output_type": "stream",
     "text": [
      "{1, 9}\n"
     ]
    }
   ],
   "source": [
    "#Write a Python program to demonstrate difference of two sets\n",
    "A = {1, 3, 5, 7, 9}\n",
    "B = {2, 3, 5, 7, 11}\n",
    "\n",
    "print(A.difference(B)) "
   ]
  },
  {
   "cell_type": "code",
   "execution_count": 36,
   "id": "b35e9b8b",
   "metadata": {},
   "outputs": [
    {
     "name": "stdout",
     "output_type": "stream",
     "text": [
      "Enter the radius of a circle: 8\n",
      "Area of given circle is: 200.96\n"
     ]
    }
   ],
   "source": [
    "#Write a Python program to find Area of a circle\n",
    "def area_circle():\n",
    "    pi=3.14\n",
    "    radius=int(input(\"Enter the radius of a circle: \"))\n",
    "    print(f\"Area of given circle is:\",(pi*radius*radius))\n",
    "\n",
    "    \n",
    "area_circle()"
   ]
  },
  {
   "cell_type": "code",
   "execution_count": 41,
   "id": "2eca8e4d",
   "metadata": {},
   "outputs": [
    {
     "name": "stdout",
     "output_type": "stream",
     "text": [
      "Enter the number: -90\n",
      "-90 is negative number\n"
     ]
    }
   ],
   "source": [
    "#write a program that checks if a number is positive or negative.\n",
    "integer=int(input(\"Enter the number: \"))\n",
    "if integer==0:\n",
    "    print(f\"{integer} is neutral number\")\n",
    "elif integer>0:\n",
    "    print(f\"{integer} is positive number\")\n",
    "else:\n",
    "    print(f\"{integer} is negative number\")"
   ]
  },
  {
   "cell_type": "code",
   "execution_count": 42,
   "id": "484bc5f7",
   "metadata": {},
   "outputs": [
    {
     "name": "stdout",
     "output_type": "stream",
     "text": [
      "enter the number: 45\n",
      "The given number 45 is odd number\n"
     ]
    }
   ],
   "source": [
    "#Write a program that checks if a number is even or odd.\n",
    "num=int(input(\"enter the number: \"))\n",
    "\n",
    "if num%2==0:\n",
    "    print(f\"The given number {num} is even number\")\n",
    "else:\n",
    "    print(f\"The given number {num} is odd number\")"
   ]
  },
  {
   "cell_type": "code",
   "execution_count": 45,
   "id": "6b8e6a4d",
   "metadata": {},
   "outputs": [
    {
     "name": "stdout",
     "output_type": "stream",
     "text": [
      "enter the number: 15\n",
      "The given number 15 is Divisible by 3 and 5\n"
     ]
    }
   ],
   "source": [
    "#Write a program that checks if a number is divisible by 3 and 5.\n",
    "num=int(input(\"enter the number: \"))\n",
    "\n",
    "if num%3==0 and num%5==0:\n",
    "    print(f\"The given number {num} is Divisible by 3 and 5\")\n",
    "else:\n",
    "    print(f\"The given number {num} is not Divisible By 3 and 5\")"
   ]
  },
  {
   "cell_type": "code",
   "execution_count": 50,
   "id": "0b351b06",
   "metadata": {},
   "outputs": [
    {
     "name": "stdout",
     "output_type": "stream",
     "text": [
      "Enter the number: 9.99\n",
      "The given number 9.99 is in between 1 to 10\n"
     ]
    }
   ],
   "source": [
    "#Write a program that checks if a number is between 1 and 10\n",
    "number=float(input(\"Enter the number: \"))\n",
    "if number >= 1 and number <= 10:\n",
    "        print(f\"The given number {number} is in between 1 to 10\")\n",
    "else:\n",
    "    print(f\"The given number {number} is not in between 1 to 10\")"
   ]
  },
  {
   "cell_type": "code",
   "execution_count": 56,
   "id": "1ef0cd56",
   "metadata": {},
   "outputs": [
    {
     "name": "stdout",
     "output_type": "stream",
     "text": [
      "Enter Your Number: 16\n",
      "The given number 16 is a multiple of 4\n"
     ]
    }
   ],
   "source": [
    "#Write a program that checks if a number is a multiple of 4\n",
    "num=int(input(\"Enter Your Number: \"))\n",
    "\n",
    "if num % 4 == 0:\n",
    "    print(f\"The given number {num} is a multiple of 4\")\n",
    "else:\n",
    "    print(f\"the given number {num} is not a multiple of 4\")"
   ]
  },
  {
   "cell_type": "code",
   "execution_count": 60,
   "id": "5b054695",
   "metadata": {},
   "outputs": [
    {
     "name": "stdout",
     "output_type": "stream",
     "text": [
      "Enter Your String: \n",
      "String is empty\n"
     ]
    }
   ],
   "source": [
    "#Write a program that checks if a string is empty\n",
    "string=input(\"Enter Your String: \")\n",
    "if len(string) == 0:\n",
    "    \n",
    "    print(\"String is empty\")\n",
    "else:\n",
    "    print(\"String is not empty\")"
   ]
  },
  {
   "cell_type": "code",
   "execution_count": 64,
   "id": "0c250846",
   "metadata": {},
   "outputs": [
    {
     "name": "stdout",
     "output_type": "stream",
     "text": [
      "Enter the range: 10\n",
      "10\n",
      "9\n",
      "8\n",
      "7\n",
      "6\n",
      "5\n",
      "4\n",
      "3\n",
      "2\n",
      "1\n",
      "0\n"
     ]
    }
   ],
   "source": [
    "#Write a program to print n natural number in descending order using a while loop.\n",
    "count=int(input(\"Enter the range: \"))\n",
    "while count>=0:\n",
    "    print(count)\n",
    "    count-=1"
   ]
  },
  {
   "cell_type": "code",
   "execution_count": 65,
   "id": "37f4db76",
   "metadata": {},
   "outputs": [
    {
     "name": "stdout",
     "output_type": "stream",
     "text": [
      "[1, 2, 3, 4, 5, 6, 7, 8, 9]\n"
     ]
    }
   ],
   "source": [
    "# Flattering a list of lists using List compression.\n",
    "list1=[[1,2,3],[4,5,6],[7,8,9]]\n",
    "list2=[items for sublist in list1 for items in sublist]\n",
    "print(list2)"
   ]
  },
  {
   "cell_type": "code",
   "execution_count": 68,
   "id": "6689b674",
   "metadata": {},
   "outputs": [
    {
     "data": {
      "text/plain": [
       "['J', 'Z', 'J', 'A', 'D']"
      ]
     },
     "execution_count": 68,
     "metadata": {},
     "output_type": "execute_result"
    }
   ],
   "source": [
    "#Generating a list of the first letters of words in a list.\n",
    "list3=[\"Jonny\",\"Zgod\",\"Jelly\",\"Aditya\",\"Dobby\"]\n",
    "first_letter=[i[0] for i in list3]\n",
    "first_letter"
   ]
  },
  {
   "cell_type": "code",
   "execution_count": 69,
   "id": "0405e1c9",
   "metadata": {},
   "outputs": [
    {
     "name": "stdout",
     "output_type": "stream",
     "text": [
      "[4, 16, 36, 64, 100]\n"
     ]
    }
   ],
   "source": [
    "#Generating a list of the squares of even numbers using list comprehension\n",
    "list5=[1,2,3,4,5,6,7,8,9,10]\n",
    "even_squares=[numbers**2 for numbers in list5 if numbers%2==0 ]\n",
    "print(even_squares)"
   ]
  },
  {
   "cell_type": "code",
   "execution_count": 72,
   "id": "4cd3c7d8",
   "metadata": {},
   "outputs": [
    {
     "name": "stdout",
     "output_type": "stream",
     "text": [
      "[1, 2, 3, 4, 5]\n"
     ]
    }
   ],
   "source": [
    "#Converting a list of strings to a list of integer using list comprehension.\n",
    "list6=['1','2','3','4','5']\n",
    "conversion_int=[int(letters) for letters in list6 ]\n",
    "print(conversion_int)"
   ]
  },
  {
   "cell_type": "code",
   "execution_count": 74,
   "id": "8ffa44b5",
   "metadata": {},
   "outputs": [
    {
     "name": "stdout",
     "output_type": "stream",
     "text": [
      "Enter the list values :45 78 32 65 100 3\n",
      "[100, 78, 65, 45, 32, 3]\n"
     ]
    }
   ],
   "source": [
    "#Descending a given list without using inbuilt function.\n",
    "list2=list(map(int,input(\"Enter the list values :\").split()))\n",
    "for i in range(0,len(list2)):\n",
    "    for j in range(i+1,len(list2)):\n",
    "        if(list2[i]<list2[j]):\n",
    "            temp=list2[i]\n",
    "            list2[i]=list2[j]\n",
    "            list2[j]=temp\n",
    "print(list2)"
   ]
  },
  {
   "cell_type": "code",
   "execution_count": 79,
   "id": "00b66adc",
   "metadata": {},
   "outputs": [
    {
     "name": "stdout",
     "output_type": "stream",
     "text": [
      "Enter the list values seperated by commas: 10,89,98,87,78,56,65,96,69,100\n",
      "[10, 56, 65, 69, 78, 87, 89, 96, 98, 100]\n"
     ]
    }
   ],
   "source": [
    "#Ascending a given list without using inbuilt function.\n",
    "list1=list(map(int,input(\"Enter the list values seperated by commas: \").split(\",\")))\n",
    "for i in range(0,len(list1)):\n",
    "    for j in range(i+1,len(list1)):\n",
    "        if list1[i]>list1[j]:\n",
    "            temp1=list1[i]\n",
    "            list1[i]=list1[j]\n",
    "            list1[j]=temp1\n",
    "print(list1)"
   ]
  },
  {
   "cell_type": "code",
   "execution_count": 86,
   "id": "9c9c62a3",
   "metadata": {},
   "outputs": [
    {
     "data": {
      "text/plain": [
       "{1: 2, 3: 4, 5: 6}"
      ]
     },
     "execution_count": 86,
     "metadata": {},
     "output_type": "execute_result"
    }
   ],
   "source": [
    "#Convert list into dictionary\n",
    "def convert_dictionary(a):\n",
    "    dict1={a[i]:a[i+1] for i in range(0,len(a),2)}\n",
    "    return dict1\n",
    "\n",
    "\n",
    "convert_dictionary([1,2,3,4,5,6])"
   ]
  },
  {
   "cell_type": "code",
   "execution_count": 3,
   "id": "d1b62f97",
   "metadata": {},
   "outputs": [
    {
     "name": "stdout",
     "output_type": "stream",
     "text": [
      "Enter the number: 100\n",
      "The given number is not an prime number\n"
     ]
    }
   ],
   "source": [
    "#Finding the given number is prime or not\n",
    "num=int(input(\"Enter the number: \"))\n",
    "i=1\n",
    "count=0\n",
    "while i<=num:\n",
    "    if num%i==0:\n",
    "        count=count+1\n",
    "    i+=1\n",
    "if count==2:\n",
    "    print(\"The given number is prime number\")\n",
    "else:\n",
    "    print(\"The given number is not an prime number\")"
   ]
  },
  {
   "cell_type": "code",
   "execution_count": 2,
   "id": "3ae8815a",
   "metadata": {},
   "outputs": [
    {
     "name": "stdout",
     "output_type": "stream",
     "text": [
      "['1a', '1b', '1c', '2a', '2b', '2c', '3a', '3b', '3c']\n"
     ]
    }
   ],
   "source": [
    "#Write a python program to get the below output python\n",
    "#o/p ['1a', '1b', '1c', '2a', '2b', '2c', '3a', '3b', '3c']\n",
    "\n",
    "l1 = [1, 2, 3]\n",
    "l2 = ['a', 'b', 'c']\n",
    "\n",
    "l1_l2=[str(i)+j for i in l1 for j in l2]\n",
    "print(l1_l2)"
   ]
  },
  {
   "cell_type": "code",
   "execution_count": 8,
   "id": "5342e266",
   "metadata": {},
   "outputs": [
    {
     "name": "stdout",
     "output_type": "stream",
     "text": [
      "[123.45, 434.23, 567.89]\n"
     ]
    }
   ],
   "source": [
    "#write a program to get the below output\n",
    "items = ['$123.45', '$434.23', '$567.89']\n",
    "# o/p [123.45, 434.23, 567.89]\n",
    "\n",
    "rupees=[float(i.replace(\"$\",\" \")) for i in items]\n",
    "print(rupees)"
   ]
  },
  {
   "cell_type": "code",
   "execution_count": 9,
   "id": "af5bf0b8",
   "metadata": {},
   "outputs": [
    {
     "name": "stdout",
     "output_type": "stream",
     "text": [
      "Enter the number: 5\n",
      "120\n"
     ]
    }
   ],
   "source": [
    "#write a program to find factorial of a given number\n",
    "num=int(input(\"Enter the number: \"))\n",
    "fact=1\n",
    "while num>0:\n",
    "    fact=fact*num\n",
    "    num-=1\n",
    "print(fact)"
   ]
  },
  {
   "cell_type": "code",
   "execution_count": 17,
   "id": "f5ad976c",
   "metadata": {},
   "outputs": [
    {
     "name": "stdout",
     "output_type": "stream",
     "text": [
      "Hello World\n"
     ]
    }
   ],
   "source": [
    "#Given a list of words, concatenate them into a single string separated by spaces\n",
    "list1=[\"Hello\",\"World\"]\n",
    "join_str=\" \".join(list1)\n",
    "print(join_str)"
   ]
  },
  {
   "cell_type": "code",
   "execution_count": null,
   "id": "938b5abf",
   "metadata": {},
   "outputs": [],
   "source": []
  },
  {
   "cell_type": "code",
   "execution_count": null,
   "id": "8d4cb559",
   "metadata": {},
   "outputs": [],
   "source": []
  }
 ],
 "metadata": {
  "kernelspec": {
   "display_name": "Python 3 (ipykernel)",
   "language": "python",
   "name": "python3"
  },
  "language_info": {
   "codemirror_mode": {
    "name": "ipython",
    "version": 3
   },
   "file_extension": ".py",
   "mimetype": "text/x-python",
   "name": "python",
   "nbconvert_exporter": "python",
   "pygments_lexer": "ipython3",
   "version": "3.9.13"
  }
 },
 "nbformat": 4,
 "nbformat_minor": 5
}
